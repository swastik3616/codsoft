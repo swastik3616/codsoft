{
 "cells": [
  {
   "cell_type": "code",
   "execution_count": 3,
   "metadata": {},
   "outputs": [
    {
     "name": "stdout",
     "output_type": "stream",
     "text": [
      "Requirement already satisfied: googletrans in c:\\users\\swast\\appdata\\local\\programs\\python\\python310\\lib\\site-packages (3.0.0)\n",
      "Requirement already satisfied: httpx==0.13.3 in c:\\users\\swast\\appdata\\local\\programs\\python\\python310\\lib\\site-packages (from googletrans) (0.13.3)\n",
      "Requirement already satisfied: certifi in c:\\users\\swast\\appdata\\local\\programs\\python\\python310\\lib\\site-packages (from httpx==0.13.3->googletrans) (2022.12.7)\n",
      "Requirement already satisfied: hstspreload in c:\\users\\swast\\appdata\\local\\programs\\python\\python310\\lib\\site-packages (from httpx==0.13.3->googletrans) (2023.1.1)\n",
      "Requirement already satisfied: sniffio in c:\\users\\swast\\appdata\\local\\programs\\python\\python310\\lib\\site-packages (from httpx==0.13.3->googletrans) (1.3.0)\n",
      "Requirement already satisfied: chardet==3.* in c:\\users\\swast\\appdata\\local\\programs\\python\\python310\\lib\\site-packages (from httpx==0.13.3->googletrans) (3.0.4)\n",
      "Requirement already satisfied: idna==2.* in c:\\users\\swast\\appdata\\local\\programs\\python\\python310\\lib\\site-packages (from httpx==0.13.3->googletrans) (2.10)\n",
      "Requirement already satisfied: rfc3986<2,>=1.3 in c:\\users\\swast\\appdata\\local\\programs\\python\\python310\\lib\\site-packages (from httpx==0.13.3->googletrans) (1.5.0)\n",
      "Requirement already satisfied: httpcore==0.9.* in c:\\users\\swast\\appdata\\local\\programs\\python\\python310\\lib\\site-packages (from httpx==0.13.3->googletrans) (0.9.1)\n",
      "Requirement already satisfied: h11<0.10,>=0.8 in c:\\users\\swast\\appdata\\local\\programs\\python\\python310\\lib\\site-packages (from httpcore==0.9.*->httpx==0.13.3->googletrans) (0.9.0)\n",
      "Requirement already satisfied: h2==3.* in c:\\users\\swast\\appdata\\local\\programs\\python\\python310\\lib\\site-packages (from httpcore==0.9.*->httpx==0.13.3->googletrans) (3.2.0)\n",
      "Requirement already satisfied: hyperframe<6,>=5.2.0 in c:\\users\\swast\\appdata\\local\\programs\\python\\python310\\lib\\site-packages (from h2==3.*->httpcore==0.9.*->httpx==0.13.3->googletrans) (5.2.0)\n",
      "Requirement already satisfied: hpack<4,>=3.0 in c:\\users\\swast\\appdata\\local\\programs\\python\\python310\\lib\\site-packages (from h2==3.*->httpcore==0.9.*->httpx==0.13.3->googletrans) (3.0.0)\n",
      "Requirement already satisfied: langdetect in c:\\users\\swast\\appdata\\local\\programs\\python\\python310\\lib\\site-packages (1.0.9)\n",
      "Requirement already satisfied: six in c:\\users\\swast\\appdata\\local\\programs\\python\\python310\\lib\\site-packages (from langdetect) (1.16.0)\n",
      "Requirement already satisfied: pycountry in c:\\users\\swast\\appdata\\local\\programs\\python\\python310\\lib\\site-packages (22.3.5)\n",
      "Requirement already satisfied: setuptools in c:\\users\\swast\\appdata\\local\\programs\\python\\python310\\lib\\site-packages (from pycountry) (63.2.0)\n",
      "Collecting imblearn\n",
      "  Downloading imblearn-0.0-py2.py3-none-any.whl (1.9 kB)\n",
      "Collecting imbalanced-learn (from imblearn)\n",
      "  Downloading imbalanced_learn-0.11.0-py3-none-any.whl.metadata (8.3 kB)\n",
      "Requirement already satisfied: numpy>=1.17.3 in c:\\users\\swast\\appdata\\local\\programs\\python\\python310\\lib\\site-packages (from imbalanced-learn->imblearn) (1.25.0)\n",
      "Requirement already satisfied: scipy>=1.5.0 in c:\\users\\swast\\appdata\\local\\programs\\python\\python310\\lib\\site-packages (from imbalanced-learn->imblearn) (1.9.3)\n",
      "Requirement already satisfied: scikit-learn>=1.0.2 in c:\\users\\swast\\appdata\\local\\programs\\python\\python310\\lib\\site-packages (from imbalanced-learn->imblearn) (1.1.2)\n",
      "Requirement already satisfied: joblib>=1.1.1 in c:\\users\\swast\\appdata\\local\\programs\\python\\python310\\lib\\site-packages (from imbalanced-learn->imblearn) (1.2.0)\n",
      "Requirement already satisfied: threadpoolctl>=2.0.0 in c:\\users\\swast\\appdata\\local\\programs\\python\\python310\\lib\\site-packages (from imbalanced-learn->imblearn) (3.1.0)\n",
      "Downloading imbalanced_learn-0.11.0-py3-none-any.whl (235 kB)\n",
      "   ---------------------------------------- 0.0/235.6 kB ? eta -:--:--\n",
      "   ------------------- -------------------- 112.6/235.6 kB 3.2 MB/s eta 0:00:01\n",
      "   ---------------------------------------- 235.6/235.6 kB 3.6 MB/s eta 0:00:00\n",
      "Installing collected packages: imbalanced-learn, imblearn\n",
      "Successfully installed imbalanced-learn-0.11.0 imblearn-0.0\n"
     ]
    }
   ],
   "source": [
    "!pip install googletrans\n",
    "!pip install langdetect\n",
    "!pip install pycountry\n",
    "!pip install imblearn"
   ]
  },
  {
   "cell_type": "code",
   "execution_count": 4,
   "metadata": {},
   "outputs": [],
   "source": [
    "import pandas as pd\n",
    "import numpy as np \n",
    "import matplotlib.pyplot as plt\n",
    "import seaborn as sns\n",
    "sns.set(rc={'figure.figsize':(18,8)},style='darkgrid')\n",
    "from time import time\n",
    "import re\n",
    "import string\n",
    "import nltk\n",
    "from googletrans import Translator\n",
    "from langdetect import detect\n",
    "import pycountry\n",
    "from imblearn.over_sampling import RandomOverSampler\n",
    "from sklearn.feature_extraction.text import TfidfVectorizer\n",
    "from sklearn.naive_bayes import MultinomialNB\n",
    "from sklearn.metrics import *\n",
    "import warnings\n",
    "warnings.filterwarnings('ignore')"
   ]
  },
  {
   "cell_type": "code",
   "execution_count": 20,
   "metadata": {},
   "outputs": [
    {
     "name": "stderr",
     "output_type": "stream",
     "text": [
      "C:\\Users\\swast\\AppData\\Local\\Temp\\ipykernel_6204\\56280433.py:1: ParserWarning: Falling back to the 'python' engine because the 'c' engine does not support regex separators (separators > 1 char and different from '\\s+' are interpreted as regex); you can avoid this warning by specifying engine='python'.\n",
      "  train = pd.read_csv(r\"C:\\\\Users\\\\swast\\\\OneDrive\\\\Desktop\\\\codesoft intern\\\\archive\\\\Genre Classification Dataset\\\\train_data.txt\",\n"
     ]
    },
    {
     "data": {
      "text/html": [
       "<div>\n",
       "<style scoped>\n",
       "    .dataframe tbody tr th:only-of-type {\n",
       "        vertical-align: middle;\n",
       "    }\n",
       "\n",
       "    .dataframe tbody tr th {\n",
       "        vertical-align: top;\n",
       "    }\n",
       "\n",
       "    .dataframe thead th {\n",
       "        text-align: right;\n",
       "    }\n",
       "</style>\n",
       "<table border=\"1\" class=\"dataframe\">\n",
       "  <thead>\n",
       "    <tr style=\"text-align: right;\">\n",
       "      <th></th>\n",
       "      <th>Title</th>\n",
       "      <th>Genre</th>\n",
       "      <th>Description</th>\n",
       "    </tr>\n",
       "  </thead>\n",
       "  <tbody>\n",
       "    <tr>\n",
       "      <th>0</th>\n",
       "      <td>Oscar et la dame rose (2009)</td>\n",
       "      <td>drama</td>\n",
       "      <td>Listening in to a conversation between his do...</td>\n",
       "    </tr>\n",
       "    <tr>\n",
       "      <th>1</th>\n",
       "      <td>Cupid (1997)</td>\n",
       "      <td>thriller</td>\n",
       "      <td>A brother and sister with a past incestuous r...</td>\n",
       "    </tr>\n",
       "    <tr>\n",
       "      <th>2</th>\n",
       "      <td>Young, Wild and Wonderful (1980)</td>\n",
       "      <td>adult</td>\n",
       "      <td>As the bus empties the students for their fie...</td>\n",
       "    </tr>\n",
       "    <tr>\n",
       "      <th>3</th>\n",
       "      <td>The Secret Sin (1915)</td>\n",
       "      <td>drama</td>\n",
       "      <td>To help their unemployed father make ends mee...</td>\n",
       "    </tr>\n",
       "    <tr>\n",
       "      <th>4</th>\n",
       "      <td>The Unrecovered (2007)</td>\n",
       "      <td>drama</td>\n",
       "      <td>The film's title refers not only to the un-re...</td>\n",
       "    </tr>\n",
       "  </tbody>\n",
       "</table>\n",
       "</div>"
      ],
      "text/plain": [
       "                                Title       Genre  \\\n",
       "0       Oscar et la dame rose (2009)       drama    \n",
       "1                       Cupid (1997)    thriller    \n",
       "2   Young, Wild and Wonderful (1980)       adult    \n",
       "3              The Secret Sin (1915)       drama    \n",
       "4             The Unrecovered (2007)       drama    \n",
       "\n",
       "                                         Description  \n",
       "0   Listening in to a conversation between his do...  \n",
       "1   A brother and sister with a past incestuous r...  \n",
       "2   As the bus empties the students for their fie...  \n",
       "3   To help their unemployed father make ends mee...  \n",
       "4   The film's title refers not only to the un-re...  "
      ]
     },
     "execution_count": 20,
     "metadata": {},
     "output_type": "execute_result"
    }
   ],
   "source": [
    "train = pd.read_csv(r\"C:\\\\Users\\\\swast\\\\OneDrive\\\\Desktop\\\\codesoft intern\\\\archive\\\\Genre Classification Dataset\\\\train_data.txt\",\n",
    "                    sep=':::',names=['Title', 'Genre', 'Description']).reset_index(drop=True)\n",
    "train.head()"
   ]
  },
  {
   "cell_type": "code",
   "execution_count": 21,
   "metadata": {},
   "outputs": [
    {
     "name": "stderr",
     "output_type": "stream",
     "text": [
      "C:\\Users\\swast\\AppData\\Local\\Temp\\ipykernel_6204\\2420532066.py:1: ParserWarning: Falling back to the 'python' engine because the 'c' engine does not support regex separators (separators > 1 char and different from '\\s+' are interpreted as regex); you can avoid this warning by specifying engine='python'.\n",
      "  test = pd.read_csv(r\"C:\\\\Users\\\\swast\\\\OneDrive\\\\Desktop\\\\codesoft intern\\\\archive\\\\Genre Classification Dataset\\\\test_data.txt\",\n"
     ]
    },
    {
     "data": {
      "text/html": [
       "<div>\n",
       "<style scoped>\n",
       "    .dataframe tbody tr th:only-of-type {\n",
       "        vertical-align: middle;\n",
       "    }\n",
       "\n",
       "    .dataframe tbody tr th {\n",
       "        vertical-align: top;\n",
       "    }\n",
       "\n",
       "    .dataframe thead th {\n",
       "        text-align: right;\n",
       "    }\n",
       "</style>\n",
       "<table border=\"1\" class=\"dataframe\">\n",
       "  <thead>\n",
       "    <tr style=\"text-align: right;\">\n",
       "      <th></th>\n",
       "      <th>Title</th>\n",
       "      <th>Description</th>\n",
       "    </tr>\n",
       "  </thead>\n",
       "  <tbody>\n",
       "    <tr>\n",
       "      <th>0</th>\n",
       "      <td>Edgar's Lunch (1998)</td>\n",
       "      <td>L.R. Brane loves his life - his car, his apar...</td>\n",
       "    </tr>\n",
       "    <tr>\n",
       "      <th>1</th>\n",
       "      <td>La guerra de papá (1977)</td>\n",
       "      <td>Spain, March 1964: Quico is a very naughty ch...</td>\n",
       "    </tr>\n",
       "    <tr>\n",
       "      <th>2</th>\n",
       "      <td>Off the Beaten Track (2010)</td>\n",
       "      <td>One year in the life of Albin and his family ...</td>\n",
       "    </tr>\n",
       "    <tr>\n",
       "      <th>3</th>\n",
       "      <td>Meu Amigo Hindu (2015)</td>\n",
       "      <td>His father has died, he hasn't spoken with hi...</td>\n",
       "    </tr>\n",
       "    <tr>\n",
       "      <th>4</th>\n",
       "      <td>Er nu zhai (1955)</td>\n",
       "      <td>Before he was known internationally as a mart...</td>\n",
       "    </tr>\n",
       "  </tbody>\n",
       "</table>\n",
       "</div>"
      ],
      "text/plain": [
       "                           Title  \\\n",
       "0          Edgar's Lunch (1998)    \n",
       "1      La guerra de papá (1977)    \n",
       "2   Off the Beaten Track (2010)    \n",
       "3        Meu Amigo Hindu (2015)    \n",
       "4             Er nu zhai (1955)    \n",
       "\n",
       "                                         Description  \n",
       "0   L.R. Brane loves his life - his car, his apar...  \n",
       "1   Spain, March 1964: Quico is a very naughty ch...  \n",
       "2   One year in the life of Albin and his family ...  \n",
       "3   His father has died, he hasn't spoken with hi...  \n",
       "4   Before he was known internationally as a mart...  "
      ]
     },
     "execution_count": 21,
     "metadata": {},
     "output_type": "execute_result"
    }
   ],
   "source": [
    "test = pd.read_csv(r\"C:\\\\Users\\\\swast\\\\OneDrive\\\\Desktop\\\\codesoft intern\\\\archive\\\\Genre Classification Dataset\\\\test_data.txt\",\n",
    "                  sep=':::',names=['Title', 'Description']).reset_index(drop=True)\n",
    "test.head()"
   ]
  },
  {
   "cell_type": "code",
   "execution_count": 12,
   "metadata": {},
   "outputs": [
    {
     "name": "stdout",
     "output_type": "stream",
     "text": [
      "<class 'pandas.core.frame.DataFrame'>\n",
      "RangeIndex: 54214 entries, 0 to 54213\n",
      "Data columns (total 4 columns):\n",
      " #   Column       Non-Null Count  Dtype \n",
      "---  ------       --------------  ----- \n",
      " 0   Title        54214 non-null  object\n",
      " 1   Genre        54214 non-null  object\n",
      " 2   Description  54214 non-null  object\n",
      " 3   Language     54214 non-null  object\n",
      "dtypes: object(4)\n",
      "memory usage: 1.7+ MB\n"
     ]
    }
   ],
   "source": [
    "train.describe(include='object').T\n",
    "train.info()"
   ]
  },
  {
   "cell_type": "code",
   "execution_count": 13,
   "metadata": {},
   "outputs": [
    {
     "data": {
      "text/plain": [
       "array([' drama ', ' thriller ', ' adult ', ' documentary ', ' comedy ',\n",
       "       ' crime ', ' reality-tv ', ' horror ', ' sport ', ' animation ',\n",
       "       ' action ', ' fantasy ', ' short ', ' sci-fi ', ' music ',\n",
       "       ' adventure ', ' talk-show ', ' western ', ' family ', ' mystery ',\n",
       "       ' history ', ' news ', ' biography ', ' romance ', ' game-show ',\n",
       "       ' musical ', ' war '], dtype=object)"
      ]
     },
     "execution_count": 13,
     "metadata": {},
     "output_type": "execute_result"
    }
   ],
   "source": [
    "train.duplicated().sum()\n",
    "train.Genre.unique()"
   ]
  },
  {
   "cell_type": "code",
   "execution_count": 14,
   "metadata": {},
   "outputs": [
    {
     "name": "stdout",
     "output_type": "stream",
     "text": [
      "<class 'pandas.core.frame.DataFrame'>\n",
      "RangeIndex: 54200 entries, 0 to 54199\n",
      "Data columns (total 2 columns):\n",
      " #   Column       Non-Null Count  Dtype \n",
      "---  ------       --------------  ----- \n",
      " 0   Title        54200 non-null  object\n",
      " 1   Description  54200 non-null  object\n",
      "dtypes: object(2)\n",
      "memory usage: 847.0+ KB\n"
     ]
    },
    {
     "data": {
      "text/plain": [
       "0"
      ]
     },
     "execution_count": 14,
     "metadata": {},
     "output_type": "execute_result"
    }
   ],
   "source": [
    "test.describe(include='object').T\n",
    "test.info()\n",
    "test.duplicated().sum()\n"
   ]
  },
  {
   "cell_type": "code",
   "execution_count": 22,
   "metadata": {},
   "outputs": [
    {
     "data": {
      "text/html": [
       "<div>\n",
       "<style scoped>\n",
       "    .dataframe tbody tr th:only-of-type {\n",
       "        vertical-align: middle;\n",
       "    }\n",
       "\n",
       "    .dataframe tbody tr th {\n",
       "        vertical-align: top;\n",
       "    }\n",
       "\n",
       "    .dataframe thead th {\n",
       "        text-align: right;\n",
       "    }\n",
       "</style>\n",
       "<table border=\"1\" class=\"dataframe\">\n",
       "  <thead>\n",
       "    <tr style=\"text-align: right;\">\n",
       "      <th></th>\n",
       "      <th>Title</th>\n",
       "      <th>Genre</th>\n",
       "      <th>Description</th>\n",
       "    </tr>\n",
       "  </thead>\n",
       "  <tbody>\n",
       "    <tr>\n",
       "      <th>242</th>\n",
       "      <td>Túlvilági beszélö (1992)</td>\n",
       "      <td>documentary</td>\n",
       "      <td>Mail &lt;svaradi@sprynet.com&gt; for translation. T...</td>\n",
       "    </tr>\n",
       "    <tr>\n",
       "      <th>1880</th>\n",
       "      <td>Rokonok (1954)</td>\n",
       "      <td>drama</td>\n",
       "      <td>Mail &lt;svaradi@sprynet.com&gt; for translation. F...</td>\n",
       "    </tr>\n",
       "    <tr>\n",
       "      <th>1986</th>\n",
       "      <td>Lila akác (1934)</td>\n",
       "      <td>comedy</td>\n",
       "      <td>Mail &lt;svaradi@sprynet.com&gt; for translation. S...</td>\n",
       "    </tr>\n",
       "    <tr>\n",
       "      <th>6579</th>\n",
       "      <td>A csúnya lány (1935)</td>\n",
       "      <td>comedy</td>\n",
       "      <td>Mail &lt;svaradi@sprynet.com&gt; for translation. D...</td>\n",
       "    </tr>\n",
       "    <tr>\n",
       "      <th>8296</th>\n",
       "      <td>Füszer és csemege (1940)</td>\n",
       "      <td>drama</td>\n",
       "      <td>Mail &lt;svaradi@sprynet.com&gt; for translation. 5...</td>\n",
       "    </tr>\n",
       "  </tbody>\n",
       "</table>\n",
       "</div>"
      ],
      "text/plain": [
       "                           Title          Genre  \\\n",
       "242    Túlvilági beszélö (1992)    documentary    \n",
       "1880             Rokonok (1954)          drama    \n",
       "1986           Lila akác (1934)         comedy    \n",
       "6579       A csúnya lány (1935)         comedy    \n",
       "8296   Füszer és csemege (1940)          drama    \n",
       "\n",
       "                                            Description  \n",
       "242    Mail <svaradi@sprynet.com> for translation. T...  \n",
       "1880   Mail <svaradi@sprynet.com> for translation. F...  \n",
       "1986   Mail <svaradi@sprynet.com> for translation. S...  \n",
       "6579   Mail <svaradi@sprynet.com> for translation. D...  \n",
       "8296   Mail <svaradi@sprynet.com> for translation. 5...  "
      ]
     },
     "execution_count": 22,
     "metadata": {},
     "output_type": "execute_result"
    }
   ],
   "source": [
    "train.loc[train['Description'].str.contains(r'@\\S+')].head()"
   ]
  },
  {
   "cell_type": "code",
   "execution_count": 23,
   "metadata": {},
   "outputs": [
    {
     "data": {
      "text/html": [
       "<div>\n",
       "<style scoped>\n",
       "    .dataframe tbody tr th:only-of-type {\n",
       "        vertical-align: middle;\n",
       "    }\n",
       "\n",
       "    .dataframe tbody tr th {\n",
       "        vertical-align: top;\n",
       "    }\n",
       "\n",
       "    .dataframe thead th {\n",
       "        text-align: right;\n",
       "    }\n",
       "</style>\n",
       "<table border=\"1\" class=\"dataframe\">\n",
       "  <thead>\n",
       "    <tr style=\"text-align: right;\">\n",
       "      <th></th>\n",
       "      <th>Title</th>\n",
       "      <th>Genre</th>\n",
       "      <th>Description</th>\n",
       "      <th>Language</th>\n",
       "    </tr>\n",
       "  </thead>\n",
       "  <tbody>\n",
       "    <tr>\n",
       "      <th>0</th>\n",
       "      <td>Oscar et la dame rose (2009)</td>\n",
       "      <td>drama</td>\n",
       "      <td>Listening in to a conversation between his do...</td>\n",
       "      <td>Unknown</td>\n",
       "    </tr>\n",
       "    <tr>\n",
       "      <th>1</th>\n",
       "      <td>Cupid (1997)</td>\n",
       "      <td>thriller</td>\n",
       "      <td>A brother and sister with a past incestuous r...</td>\n",
       "      <td>Unknown</td>\n",
       "    </tr>\n",
       "    <tr>\n",
       "      <th>2</th>\n",
       "      <td>Young, Wild and Wonderful (1980)</td>\n",
       "      <td>adult</td>\n",
       "      <td>As the bus empties the students for their fie...</td>\n",
       "      <td>Unknown</td>\n",
       "    </tr>\n",
       "    <tr>\n",
       "      <th>3</th>\n",
       "      <td>The Secret Sin (1915)</td>\n",
       "      <td>drama</td>\n",
       "      <td>To help their unemployed father make ends mee...</td>\n",
       "      <td>Unknown</td>\n",
       "    </tr>\n",
       "    <tr>\n",
       "      <th>4</th>\n",
       "      <td>The Unrecovered (2007)</td>\n",
       "      <td>drama</td>\n",
       "      <td>The film's title refers not only to the un-re...</td>\n",
       "      <td>Unknown</td>\n",
       "    </tr>\n",
       "  </tbody>\n",
       "</table>\n",
       "</div>"
      ],
      "text/plain": [
       "                                Title       Genre  \\\n",
       "0       Oscar et la dame rose (2009)       drama    \n",
       "1                       Cupid (1997)    thriller    \n",
       "2   Young, Wild and Wonderful (1980)       adult    \n",
       "3              The Secret Sin (1915)       drama    \n",
       "4             The Unrecovered (2007)       drama    \n",
       "\n",
       "                                         Description Language  \n",
       "0   Listening in to a conversation between his do...  Unknown  \n",
       "1   A brother and sister with a past incestuous r...  Unknown  \n",
       "2   As the bus empties the students for their fie...  Unknown  \n",
       "3   To help their unemployed father make ends mee...  Unknown  \n",
       "4   The film's title refers not only to the un-re...  Unknown  "
      ]
     },
     "execution_count": 23,
     "metadata": {},
     "output_type": "execute_result"
    }
   ],
   "source": [
    "def detect_language(text):\n",
    "    try:\n",
    "        #Returning the name 'English instide of en'\n",
    "        return pycountry.languages.get(alpha_2=detect(text)).name.lower()\n",
    "    except:\n",
    "        return 'Unknown'\n",
    "train['Language'] = train['Description'].apply(detect_language)\n",
    "test['Language'] = test['Description'].apply(detect_language)\n",
    "train.head()"
   ]
  },
  {
   "cell_type": "code",
   "execution_count": 24,
   "metadata": {},
   "outputs": [
    {
     "name": "stderr",
     "output_type": "stream",
     "text": [
      "C:\\Users\\swast\\AppData\\Local\\Temp\\ipykernel_6204\\435801948.py:6: UserWarning: Matplotlib is currently using module://matplotlib_inline.backend_inline, which is a non-GUI backend, so cannot show the figure.\n",
      "  fig.show()\n"
     ]
    },
    {
     "data": {
      "image/png": "[encoded data removed]",
      "text/plain": [
       "<Figure size 1800x800 with 2 Axes>"
      ]
     },
     "metadata": {},
     "output_type": "display_data"
    }
   ],
   "source": [
    "fig,axs = plt.subplots(1,2)\n",
    "axs[0].pie(train.Language.value_counts().values.tolist(),autopct='%.2f%%')\n",
    "axs[0].legend(labels=train.Language.value_counts().index.tolist(),loc='lower left')\n",
    "sns.countplot(data=train,y='Language',order=train.Language.value_counts().index.tolist(),ax=axs[1],color='lightblue')\n",
    "axs[1].bar_label(axs[1].containers[0])\n",
    "fig.show()"
   ]
  },
  {
   "cell_type": "code",
   "execution_count": 25,
   "metadata": {},
   "outputs": [
    {
     "data": {
      "text/plain": [
       "9"
      ]
     },
     "execution_count": 25,
     "metadata": {},
     "output_type": "execute_result"
    }
   ],
   "source": [
    "train.loc[train['Description'].str.contains(r'http\\S+')].shape[0]"
   ]
  },
  {
   "cell_type": "code",
   "execution_count": 26,
   "metadata": {},
   "outputs": [
    {
     "data": {
      "text/plain": [
       "\" There's more to the story of the Clintons and 9/11. Over two nights -- September 10-11, 2006, just four months before Hillary announced the exploratory committee for her original presidential campaign, ABC aired The Path to 9/11, a riveting and factual docudrama. This acclaimed and balanced movie faulted two administrations -- Bill Clinton and George W. Bush. But fairness was not what Hillary wanted. Screenwriter Cyrus Nowrasteh told me he had expected the customary DVD distribution. But the Clintons, fearing the impact of DVD release during her campaign, successfully pressured Disney, which owns ABC, to bury the movie. This is a portion of a news article that originally appeared: http://www.frontpagemag.com/fpm/261541/hillarys-path-back-911-arnold-steinberg This article originally appeared in The Huffington Post http://www.huffingtonpost.com/arnold-steinberg/hillarys-path-back-to-911_b_9039658.html This article was written by Arnold Steinberg from Huffington Post and was legally licensed through the NewsCred publisher network.\""
      ]
     },
     "execution_count": 26,
     "metadata": {},
     "output_type": "execute_result"
    }
   ],
   "source": [
    "train.loc[train['Description'].str.contains(r'http\\S+')].head()['Description'].iloc[1]"
   ]
  },
  {
   "cell_type": "code",
   "execution_count": 27,
   "metadata": {},
   "outputs": [],
   "source": [
    "def clean_text(text):\n",
    "    # Remove strange pattern in different languages if exist \n",
    "    text = re.sub('Mail <svaradi@sprynet.com> for translation. ','',text)\n",
    "    # Remove twitter handles\n",
    "    text = re.sub(r'@\\S+', '', text)\n",
    "    # Remove URLs\n",
    "    text = re.sub(r'http\\S+', '', text)\n",
    "    # Remove punctuations\n",
    "    text = re.sub(f'[{string.punctuation}]','',text)\n",
    "    # Remove numbers\n",
    "    text = re.sub(f'[{string.digits}]','',text)\n",
    "    # Remove single charachters \n",
    "    text = re.sub(r'\\s+[a-zA-Z]\\s+', ' ', text)\n",
    "    \n",
    "    return text"
   ]
  },
  {
   "cell_type": "code",
   "execution_count": 28,
   "metadata": {},
   "outputs": [],
   "source": [
    "train['Description'] = train['Description'].apply(clean_text)\n",
    "test['Description'] = test['Description'].apply(clean_text)"
   ]
  },
  {
   "cell_type": "code",
   "execution_count": 29,
   "metadata": {},
   "outputs": [
    {
     "data": {
      "text/html": [
       "<div>\n",
       "<style scoped>\n",
       "    .dataframe tbody tr th:only-of-type {\n",
       "        vertical-align: middle;\n",
       "    }\n",
       "\n",
       "    .dataframe tbody tr th {\n",
       "        vertical-align: top;\n",
       "    }\n",
       "\n",
       "    .dataframe thead th {\n",
       "        text-align: right;\n",
       "    }\n",
       "</style>\n",
       "<table border=\"1\" class=\"dataframe\">\n",
       "  <thead>\n",
       "    <tr style=\"text-align: right;\">\n",
       "      <th></th>\n",
       "      <th>Title</th>\n",
       "      <th>Genre</th>\n",
       "      <th>Description</th>\n",
       "      <th>Language</th>\n",
       "    </tr>\n",
       "  </thead>\n",
       "  <tbody>\n",
       "    <tr>\n",
       "      <th>0</th>\n",
       "      <td>Oscar et la dame rose (2009)</td>\n",
       "      <td>drama</td>\n",
       "      <td>Listening in to conversation between his doct...</td>\n",
       "      <td>Unknown</td>\n",
       "    </tr>\n",
       "    <tr>\n",
       "      <th>1</th>\n",
       "      <td>Cupid (1997)</td>\n",
       "      <td>thriller</td>\n",
       "      <td>brother and sister with past incestuous relat...</td>\n",
       "      <td>Unknown</td>\n",
       "    </tr>\n",
       "    <tr>\n",
       "      <th>2</th>\n",
       "      <td>Young, Wild and Wonderful (1980)</td>\n",
       "      <td>adult</td>\n",
       "      <td>As the bus empties the students for their fie...</td>\n",
       "      <td>Unknown</td>\n",
       "    </tr>\n",
       "    <tr>\n",
       "      <th>3</th>\n",
       "      <td>The Secret Sin (1915)</td>\n",
       "      <td>drama</td>\n",
       "      <td>To help their unemployed father make ends mee...</td>\n",
       "      <td>Unknown</td>\n",
       "    </tr>\n",
       "    <tr>\n",
       "      <th>4</th>\n",
       "      <td>The Unrecovered (2007)</td>\n",
       "      <td>drama</td>\n",
       "      <td>The films title refers not only to the unreco...</td>\n",
       "      <td>Unknown</td>\n",
       "    </tr>\n",
       "    <tr>\n",
       "      <th>...</th>\n",
       "      <td>...</td>\n",
       "      <td>...</td>\n",
       "      <td>...</td>\n",
       "      <td>...</td>\n",
       "    </tr>\n",
       "    <tr>\n",
       "      <th>54209</th>\n",
       "      <td>\"Bonino\" (1953)</td>\n",
       "      <td>comedy</td>\n",
       "      <td>This shortlived NBC live sitcom centered on B...</td>\n",
       "      <td>Unknown</td>\n",
       "    </tr>\n",
       "    <tr>\n",
       "      <th>54210</th>\n",
       "      <td>Dead Girls Don't Cry (????)</td>\n",
       "      <td>horror</td>\n",
       "      <td>The NEXT Generation of EXPLOITATION The siste...</td>\n",
       "      <td>Unknown</td>\n",
       "    </tr>\n",
       "    <tr>\n",
       "      <th>54211</th>\n",
       "      <td>Ronald Goedemondt: Ze bestaan echt (2008)</td>\n",
       "      <td>documentary</td>\n",
       "      <td>Ze bestaan echt is standup comedy about growi...</td>\n",
       "      <td>Unknown</td>\n",
       "    </tr>\n",
       "    <tr>\n",
       "      <th>54212</th>\n",
       "      <td>Make Your Own Bed (1944)</td>\n",
       "      <td>comedy</td>\n",
       "      <td>Walter and Vivian live in the country and hav...</td>\n",
       "      <td>Unknown</td>\n",
       "    </tr>\n",
       "    <tr>\n",
       "      <th>54213</th>\n",
       "      <td>Nature's Fury: Storm of the Century (2006)</td>\n",
       "      <td>history</td>\n",
       "      <td>On Labor Day Weekend  the most intense hurric...</td>\n",
       "      <td>Unknown</td>\n",
       "    </tr>\n",
       "  </tbody>\n",
       "</table>\n",
       "<p>54214 rows × 4 columns</p>\n",
       "</div>"
      ],
      "text/plain": [
       "                                              Title          Genre  \\\n",
       "0                     Oscar et la dame rose (2009)          drama    \n",
       "1                                     Cupid (1997)       thriller    \n",
       "2                 Young, Wild and Wonderful (1980)          adult    \n",
       "3                            The Secret Sin (1915)          drama    \n",
       "4                           The Unrecovered (2007)          drama    \n",
       "...                                             ...            ...   \n",
       "54209                              \"Bonino\" (1953)         comedy    \n",
       "54210                  Dead Girls Don't Cry (????)         horror    \n",
       "54211    Ronald Goedemondt: Ze bestaan echt (2008)    documentary    \n",
       "54212                     Make Your Own Bed (1944)         comedy    \n",
       "54213   Nature's Fury: Storm of the Century (2006)        history    \n",
       "\n",
       "                                             Description Language  \n",
       "0       Listening in to conversation between his doct...  Unknown  \n",
       "1       brother and sister with past incestuous relat...  Unknown  \n",
       "2       As the bus empties the students for their fie...  Unknown  \n",
       "3       To help their unemployed father make ends mee...  Unknown  \n",
       "4       The films title refers not only to the unreco...  Unknown  \n",
       "...                                                  ...      ...  \n",
       "54209   This shortlived NBC live sitcom centered on B...  Unknown  \n",
       "54210   The NEXT Generation of EXPLOITATION The siste...  Unknown  \n",
       "54211   Ze bestaan echt is standup comedy about growi...  Unknown  \n",
       "54212   Walter and Vivian live in the country and hav...  Unknown  \n",
       "54213   On Labor Day Weekend  the most intense hurric...  Unknown  \n",
       "\n",
       "[54214 rows x 4 columns]"
      ]
     },
     "execution_count": 29,
     "metadata": {},
     "output_type": "execute_result"
    }
   ],
   "source": [
    "train[~train.Language.isin(['english'])]"
   ]
  },
  {
   "cell_type": "code",
   "execution_count": 30,
   "metadata": {},
   "outputs": [],
   "source": [
    "#Translate other languages\n",
    "def trans(text):\n",
    "    try:\n",
    "        return Translator().translate(text,dest='en').text\n",
    "    except:\n",
    "        return text\n",
    "train.loc[~train['Language'].isin(['english']), 'Description']=train.loc[~train['Language'].isin(['english']),'Description'].apply(trans)\n",
    "test.loc[~test['Language'].isin(['english']), 'Description']=test.loc[~test['Language'].isin(['english']),'Description'].apply(trans)"
   ]
  },
  {
   "cell_type": "code",
   "execution_count": null,
   "metadata": {},
   "outputs": [],
   "source": [
    "train.drop(columns='Language',inplace=True)\n",
    "test.drop(columns='Language',inplace=True)"
   ]
  },
  {
   "cell_type": "code",
   "execution_count": null,
   "metadata": {},
   "outputs": [],
   "source": [
    "#Distribution of text lengths\n",
    "train['Dest_len'] = train['Description'].apply(len)\n",
    "sns.distplot(train['Dest_len'])\n",
    "plt.title('Distribution of lengths',fontweight='bold',fontsize=20)\n",
    "plt.show()"
   ]
  },
  {
   "cell_type": "code",
   "execution_count": null,
   "metadata": {},
   "outputs": [],
   "source": [
    "ax=sns.countplot(data=train,x='Genre',order=train.Genre.value_counts().index,palette='rocket')\n",
    "ax.bar_label(ax.containers[0])\n",
    "plt.title('Genres Distribution',fontweight='bold',fontsize=16)\n",
    "plt.xticks(rotation=45,fontweight='bold',fontsize=10)\n",
    "plt.show()"
   ]
  },
  {
   "cell_type": "code",
   "execution_count": null,
   "metadata": {},
   "outputs": [],
   "source": [
    "# Using TfidfVectorizer\n",
    "tfidf_vectorizer = TfidfVectorizer(lowercase=True, #Lowercase chars\n",
    "                                   ngram_range=(1,1), #Capture only single words in each text(unigrams)\n",
    "                                   stop_words='english',#Remove stop_words\n",
    "                                   min_df=2)#Ignore words that appears less than 2 times\n",
    "x_train = tfidf_vectorizer.fit_transform(train['Description'])\n",
    "x_test = tfidf_vectorizer.transform(test['Description'])\n"
   ]
  },
  {
   "cell_type": "code",
   "execution_count": null,
   "metadata": {},
   "outputs": [],
   "source": [
    "sampler = RandomOverSampler()\n",
    "#We will pass to it the output of TfidfVectorizer from train data\n",
    "x_train_resampled , y_train_resampled = sampler.fit_resample(x_train,train['Genre'])"
   ]
  },
  {
   "cell_type": "code",
   "execution_count": null,
   "metadata": {},
   "outputs": [],
   "source": [
    "sns.countplot(data=y_train_resampled,x=y_train_resampled.values,palette='rocket')\n",
    "plt.xticks(rotation=45)\n",
    "plt.show()"
   ]
  },
  {
   "cell_type": "code",
   "execution_count": null,
   "metadata": {},
   "outputs": [],
   "source": [
    "print('Train :',x_train_resampled.shape[0])\n",
    "print('Test :',y_train_resampled.shape[0])"
   ]
  },
  {
   "cell_type": "code",
   "execution_count": null,
   "metadata": {},
   "outputs": [
    {
     "name": "stderr",
     "output_type": "stream",
     "text": [
      "C:\\Users\\swast\\AppData\\Local\\Temp\\ipykernel_7272\\4292677069.py:1: ParserWarning: Falling back to the 'python' engine because the 'c' engine does not support regex separators (separators > 1 char and different from '\\s+' are interpreted as regex); you can avoid this warning by specifying engine='python'.\n",
      "  y_actual = pd.read_csv(r\"C:\\Users\\swast\\OneDrive\\Desktop\\codesoft intern\\archive\\Genre Classification Dataset\\test_data_solution.txt\",\n"
     ]
    },
    {
     "data": {
      "text/html": [
       "<div>\n",
       "<style scoped>\n",
       "    .dataframe tbody tr th:only-of-type {\n",
       "        vertical-align: middle;\n",
       "    }\n",
       "\n",
       "    .dataframe tbody tr th {\n",
       "        vertical-align: top;\n",
       "    }\n",
       "\n",
       "    .dataframe thead th {\n",
       "        text-align: right;\n",
       "    }\n",
       "</style>\n",
       "<table border=\"1\" class=\"dataframe\">\n",
       "  <thead>\n",
       "    <tr style=\"text-align: right;\">\n",
       "      <th></th>\n",
       "      <th>Actual_Genre</th>\n",
       "    </tr>\n",
       "  </thead>\n",
       "  <tbody>\n",
       "    <tr>\n",
       "      <th>0</th>\n",
       "      <td>thriller</td>\n",
       "    </tr>\n",
       "    <tr>\n",
       "      <th>1</th>\n",
       "      <td>comedy</td>\n",
       "    </tr>\n",
       "    <tr>\n",
       "      <th>2</th>\n",
       "      <td>documentary</td>\n",
       "    </tr>\n",
       "    <tr>\n",
       "      <th>3</th>\n",
       "      <td>drama</td>\n",
       "    </tr>\n",
       "    <tr>\n",
       "      <th>4</th>\n",
       "      <td>drama</td>\n",
       "    </tr>\n",
       "  </tbody>\n",
       "</table>\n",
       "</div>"
      ],
      "text/plain": [
       "    Actual_Genre\n",
       "0      thriller \n",
       "1        comedy \n",
       "2   documentary \n",
       "3         drama \n",
       "4         drama "
      ]
     },
     "execution_count": 20,
     "metadata": {},
     "output_type": "execute_result"
    }
   ],
   "source": [
    "y_actual = pd.read_csv(r\"C:\\Users\\swast\\OneDrive\\Desktop\\codesoft intern\\archive\\Genre Classification Dataset\\test_data_solution.txt\",\n",
    "                      sep=':::',usecols=[2],header=None).rename(columns={2:'Actual_Genre'})\n",
    "y_actual.head()"
   ]
  },
  {
   "cell_type": "code",
   "execution_count": null,
   "metadata": {},
   "outputs": [],
   "source": [
    "NB = MultinomialNB(alpha=0.3)\n",
    "start_time = time()\n",
    "NB.fit(x_train_resampled,y_train_resampled)\n",
    "y_pred = NB.predict(x_test)\n",
    "print('Accuracy :',accuracy_score(y_actual,y_pred))\n",
    "end_time = time()\n",
    "print('Running Time : ',round(end_time - start_time,2),'Secounds')"
   ]
  },
  {
   "cell_type": "code",
   "execution_count": null,
   "metadata": {},
   "outputs": [],
   "source": [
    "print(classification_report(y_actual,y_pred))\n",
    "cm =confusion_matrix(y_actual,y_pred,labels=NB.classes_)\n",
    "cmd = ConfusionMatrixDisplay(confusion_matrix=cm,display_labels=NB.classes_)\n",
    "cmd.plot(cmap=plt.cm.Reds,xticks_rotation='vertical',text_kw={'size': 8})\n",
    "plt.show()"
   ]
  },
  {
   "cell_type": "code",
   "execution_count": null,
   "metadata": {},
   "outputs": [],
   "source": [
    "pd.concat([pd.concat([test,y_actual],axis=1),pd.Series(y_pred)],axis=1).rename(columns={0:'Predicted_Genre'}).head(10)"
   ]
  },
  {
   "cell_type": "code",
   "execution_count": null,
   "metadata": {},
   "outputs": [],
   "source": [
    "y_train_modified = train['Genre'].apply(lambda genre: genre if genre.strip() in ['drama','documentary'] else 'other')\n",
    "y_actual_modified = y_actual['Actual_Genre'].apply(lambda genre: genre if genre.strip() in ['drama','documentary'] else 'other')"
   ]
  },
  {
   "cell_type": "code",
   "execution_count": null,
   "metadata": {},
   "outputs": [],
   "source": [
    "NB = MultinomialNB(alpha=0.3)\n",
    "start_time = time()\n",
    "NB.fit(x_train,y_train_modified)\n",
    "y_pred = NB.predict(x_test)\n",
    "print('Accuracy :',accuracy_score(y_actual_modified,y_pred))\n",
    "end_time = time()\n",
    "print('Running Time : ',round(end_time - start_time,2),'Secounds')"
   ]
  }
 ],
 "metadata": {
  "kernelspec": {
   "display_name": "Python 3",
   "language": "python",
   "name": "python3"
  },
  "language_info": {
   "codemirror_mode": {
    "name": "ipython",
    "version": 3
   },
   "file_extension": ".py",
   "mimetype": "text/x-python",
   "name": "python",
   "nbconvert_exporter": "python",
   "pygments_lexer": "ipython3",
   "version": "3.10.8"
  }
 },
 "nbformat": 4,
 "nbformat_minor": 2
}
